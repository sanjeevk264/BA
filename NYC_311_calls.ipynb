{
  "cells": [
    {
      "cell_type": "markdown",
      "metadata": {
        "id": "view-in-github",
        "colab_type": "text"
      },
      "source": [
        "<a href=\"https://colab.research.google.com/github/sanjeevk264/BA/blob/main/NYC_311_calls.ipynb\" target=\"_parent\"><img src=\"https://colab.research.google.com/assets/colab-badge.svg\" alt=\"Open In Colab\"/></a>"
      ]
    },
    {
      "cell_type": "code",
      "execution_count": null,
      "id": "db46db8b-94ee-4326-8c07-e656e861ba81",
      "metadata": {
        "id": "db46db8b-94ee-4326-8c07-e656e861ba81"
      },
      "outputs": [],
      "source": [
        "import pandas as pd\n",
        "import numpy as np\n",
        "import matplotlib.pyplot as plt\n",
        "import seaborn as sns"
      ]
    },
    {
      "cell_type": "code",
      "execution_count": null,
      "id": "de3d20af-9b42-4858-9bbf-1352f94b8d69",
      "metadata": {
        "id": "de3d20af-9b42-4858-9bbf-1352f94b8d69"
      },
      "outputs": [],
      "source": [
        "data_frame = pd.read_pickle('shared/Project-3_NYC_311_Calls.pkl')"
      ]
    },
    {
      "cell_type": "code",
      "execution_count": null,
      "id": "2000a5a6-a214-42a7-b54e-729197858004",
      "metadata": {
        "id": "2000a5a6-a214-42a7-b54e-729197858004"
      },
      "outputs": [],
      "source": [
        "data_frame = data_frame.set_index(pd.DatetimeIndex(data_frame['Created Date']))\n",
        "del data_frame['Created Date']"
      ]
    },
    {
      "cell_type": "code",
      "execution_count": null,
      "id": "158fef63-3168-4d77-bc40-2895708a21c4",
      "metadata": {
        "id": "158fef63-3168-4d77-bc40-2895708a21c4",
        "outputId": "5c920404-5952-41ef-e76d-b89fac420c28"
      },
      "outputs": [
        {
          "data": {
            "text/html": [
              "<div>\n",
              "<style scoped>\n",
              "    .dataframe tbody tr th:only-of-type {\n",
              "        vertical-align: middle;\n",
              "    }\n",
              "\n",
              "    .dataframe tbody tr th {\n",
              "        vertical-align: top;\n",
              "    }\n",
              "\n",
              "    .dataframe thead th {\n",
              "        text-align: right;\n",
              "    }\n",
              "</style>\n",
              "<table border=\"1\" class=\"dataframe\">\n",
              "  <thead>\n",
              "    <tr style=\"text-align: right;\">\n",
              "      <th></th>\n",
              "      <th>Unique Key</th>\n",
              "      <th>Agency</th>\n",
              "      <th>Agency Name</th>\n",
              "      <th>Complaint Type</th>\n",
              "      <th>Descriptor</th>\n",
              "      <th>Location Type</th>\n",
              "      <th>Incident Zip</th>\n",
              "      <th>City</th>\n",
              "      <th>Resolution Description</th>\n",
              "      <th>Borough</th>\n",
              "      <th>Open Data Channel Type</th>\n",
              "    </tr>\n",
              "    <tr>\n",
              "      <th>Created Date</th>\n",
              "      <th></th>\n",
              "      <th></th>\n",
              "      <th></th>\n",
              "      <th></th>\n",
              "      <th></th>\n",
              "      <th></th>\n",
              "      <th></th>\n",
              "      <th></th>\n",
              "      <th></th>\n",
              "      <th></th>\n",
              "      <th></th>\n",
              "    </tr>\n",
              "  </thead>\n",
              "  <tbody>\n",
              "    <tr>\n",
              "      <th>2011-04-06 00:00:00</th>\n",
              "      <td>20184537</td>\n",
              "      <td>HPD</td>\n",
              "      <td>Department of Housing Preservation and Develop...</td>\n",
              "      <td>HEATING</td>\n",
              "      <td>HEAT</td>\n",
              "      <td>RESIDENTIAL BUILDING</td>\n",
              "      <td>10002.0</td>\n",
              "      <td>NEW YORK</td>\n",
              "      <td>More than one complaint was received for this ...</td>\n",
              "      <td>MANHATTAN</td>\n",
              "      <td>UNKNOWN</td>\n",
              "    </tr>\n",
              "    <tr>\n",
              "      <th>2011-04-06 00:00:00</th>\n",
              "      <td>20184538</td>\n",
              "      <td>HPD</td>\n",
              "      <td>Department of Housing Preservation and Develop...</td>\n",
              "      <td>GENERAL CONSTRUCTION</td>\n",
              "      <td>WINDOWS</td>\n",
              "      <td>RESIDENTIAL BUILDING</td>\n",
              "      <td>11236.0</td>\n",
              "      <td>BROOKLYN</td>\n",
              "      <td>The Department of Housing Preservation and Dev...</td>\n",
              "      <td>BROOKLYN</td>\n",
              "      <td>UNKNOWN</td>\n",
              "    </tr>\n",
              "    <tr>\n",
              "      <th>2011-04-06 00:00:00</th>\n",
              "      <td>20184539</td>\n",
              "      <td>HPD</td>\n",
              "      <td>Department of Housing Preservation and Develop...</td>\n",
              "      <td>PAINT - PLASTER</td>\n",
              "      <td>WALLS</td>\n",
              "      <td>RESIDENTIAL BUILDING</td>\n",
              "      <td>10460.0</td>\n",
              "      <td>BRONX</td>\n",
              "      <td>The Department of Housing Preservation and Dev...</td>\n",
              "      <td>BRONX</td>\n",
              "      <td>UNKNOWN</td>\n",
              "    </tr>\n",
              "    <tr>\n",
              "      <th>2022-07-08 11:14:43</th>\n",
              "      <td>54732265</td>\n",
              "      <td>DSNY</td>\n",
              "      <td>Department of Sanitation</td>\n",
              "      <td>Dirty Condition</td>\n",
              "      <td>Trash</td>\n",
              "      <td>Sidewalk</td>\n",
              "      <td>10467.0</td>\n",
              "      <td>BRONX</td>\n",
              "      <td>The Department of Sanitation investigated this...</td>\n",
              "      <td>BRONX</td>\n",
              "      <td>PHONE</td>\n",
              "    </tr>\n",
              "    <tr>\n",
              "      <th>2011-04-06 00:00:00</th>\n",
              "      <td>20184540</td>\n",
              "      <td>HPD</td>\n",
              "      <td>Department of Housing Preservation and Develop...</td>\n",
              "      <td>NONCONST</td>\n",
              "      <td>VERMIN</td>\n",
              "      <td>RESIDENTIAL BUILDING</td>\n",
              "      <td>10460.0</td>\n",
              "      <td>BRONX</td>\n",
              "      <td>The Department of Housing Preservation and Dev...</td>\n",
              "      <td>BRONX</td>\n",
              "      <td>UNKNOWN</td>\n",
              "    </tr>\n",
              "    <tr>\n",
              "      <th>...</th>\n",
              "      <td>...</td>\n",
              "      <td>...</td>\n",
              "      <td>...</td>\n",
              "      <td>...</td>\n",
              "      <td>...</td>\n",
              "      <td>...</td>\n",
              "      <td>...</td>\n",
              "      <td>...</td>\n",
              "      <td>...</td>\n",
              "      <td>...</td>\n",
              "      <td>...</td>\n",
              "    </tr>\n",
              "    <tr>\n",
              "      <th>2011-04-06 00:00:00</th>\n",
              "      <td>20184532</td>\n",
              "      <td>HPD</td>\n",
              "      <td>Department of Housing Preservation and Develop...</td>\n",
              "      <td>HEATING</td>\n",
              "      <td>HEAT</td>\n",
              "      <td>RESIDENTIAL BUILDING</td>\n",
              "      <td>10468</td>\n",
              "      <td>BRONX</td>\n",
              "      <td>The Department of Housing Preservation and Dev...</td>\n",
              "      <td>BRONX</td>\n",
              "      <td>UNKNOWN</td>\n",
              "    </tr>\n",
              "    <tr>\n",
              "      <th>2011-04-06 00:00:00</th>\n",
              "      <td>20184533</td>\n",
              "      <td>HPD</td>\n",
              "      <td>Department of Housing Preservation and Develop...</td>\n",
              "      <td>HEATING</td>\n",
              "      <td>HEAT</td>\n",
              "      <td>RESIDENTIAL BUILDING</td>\n",
              "      <td>10018</td>\n",
              "      <td>NEW YORK</td>\n",
              "      <td>More than one complaint was received for this ...</td>\n",
              "      <td>MANHATTAN</td>\n",
              "      <td>UNKNOWN</td>\n",
              "    </tr>\n",
              "    <tr>\n",
              "      <th>2011-04-06 00:00:00</th>\n",
              "      <td>20184534</td>\n",
              "      <td>HPD</td>\n",
              "      <td>Department of Housing Preservation and Develop...</td>\n",
              "      <td>GENERAL CONSTRUCTION</td>\n",
              "      <td>STAIRS</td>\n",
              "      <td>RESIDENTIAL BUILDING</td>\n",
              "      <td>10460</td>\n",
              "      <td>BRONX</td>\n",
              "      <td>The Department of Housing Preservation and Dev...</td>\n",
              "      <td>BRONX</td>\n",
              "      <td>UNKNOWN</td>\n",
              "    </tr>\n",
              "    <tr>\n",
              "      <th>2011-04-06 00:00:00</th>\n",
              "      <td>20184535</td>\n",
              "      <td>HPD</td>\n",
              "      <td>Department of Housing Preservation and Develop...</td>\n",
              "      <td>GENERAL CONSTRUCTION</td>\n",
              "      <td>GAS</td>\n",
              "      <td>RESIDENTIAL BUILDING</td>\n",
              "      <td>11236</td>\n",
              "      <td>BROOKLYN</td>\n",
              "      <td>The Department of Housing Preservation and Dev...</td>\n",
              "      <td>BROOKLYN</td>\n",
              "      <td>UNKNOWN</td>\n",
              "    </tr>\n",
              "    <tr>\n",
              "      <th>2011-04-06 00:00:00</th>\n",
              "      <td>20184536</td>\n",
              "      <td>HPD</td>\n",
              "      <td>Department of Housing Preservation and Develop...</td>\n",
              "      <td>PLUMBING</td>\n",
              "      <td>WATER-LEAKS</td>\n",
              "      <td>RESIDENTIAL BUILDING</td>\n",
              "      <td>11236</td>\n",
              "      <td>BROOKLYN</td>\n",
              "      <td>The Department of Housing Preservation and Dev...</td>\n",
              "      <td>BROOKLYN</td>\n",
              "      <td>UNKNOWN</td>\n",
              "    </tr>\n",
              "  </tbody>\n",
              "</table>\n",
              "<p>33780977 rows × 11 columns</p>\n",
              "</div>"
            ],
            "text/plain": [
              "                     Unique Key Agency  \\\n",
              "Created Date                             \n",
              "2011-04-06 00:00:00    20184537    HPD   \n",
              "2011-04-06 00:00:00    20184538    HPD   \n",
              "2011-04-06 00:00:00    20184539    HPD   \n",
              "2022-07-08 11:14:43    54732265   DSNY   \n",
              "2011-04-06 00:00:00    20184540    HPD   \n",
              "...                         ...    ...   \n",
              "2011-04-06 00:00:00    20184532    HPD   \n",
              "2011-04-06 00:00:00    20184533    HPD   \n",
              "2011-04-06 00:00:00    20184534    HPD   \n",
              "2011-04-06 00:00:00    20184535    HPD   \n",
              "2011-04-06 00:00:00    20184536    HPD   \n",
              "\n",
              "                                                           Agency Name  \\\n",
              "Created Date                                                             \n",
              "2011-04-06 00:00:00  Department of Housing Preservation and Develop...   \n",
              "2011-04-06 00:00:00  Department of Housing Preservation and Develop...   \n",
              "2011-04-06 00:00:00  Department of Housing Preservation and Develop...   \n",
              "2022-07-08 11:14:43                           Department of Sanitation   \n",
              "2011-04-06 00:00:00  Department of Housing Preservation and Develop...   \n",
              "...                                                                ...   \n",
              "2011-04-06 00:00:00  Department of Housing Preservation and Develop...   \n",
              "2011-04-06 00:00:00  Department of Housing Preservation and Develop...   \n",
              "2011-04-06 00:00:00  Department of Housing Preservation and Develop...   \n",
              "2011-04-06 00:00:00  Department of Housing Preservation and Develop...   \n",
              "2011-04-06 00:00:00  Department of Housing Preservation and Develop...   \n",
              "\n",
              "                           Complaint Type   Descriptor         Location Type  \\\n",
              "Created Date                                                                   \n",
              "2011-04-06 00:00:00               HEATING         HEAT  RESIDENTIAL BUILDING   \n",
              "2011-04-06 00:00:00  GENERAL CONSTRUCTION      WINDOWS  RESIDENTIAL BUILDING   \n",
              "2011-04-06 00:00:00       PAINT - PLASTER        WALLS  RESIDENTIAL BUILDING   \n",
              "2022-07-08 11:14:43       Dirty Condition        Trash              Sidewalk   \n",
              "2011-04-06 00:00:00              NONCONST       VERMIN  RESIDENTIAL BUILDING   \n",
              "...                                   ...          ...                   ...   \n",
              "2011-04-06 00:00:00               HEATING         HEAT  RESIDENTIAL BUILDING   \n",
              "2011-04-06 00:00:00               HEATING         HEAT  RESIDENTIAL BUILDING   \n",
              "2011-04-06 00:00:00  GENERAL CONSTRUCTION       STAIRS  RESIDENTIAL BUILDING   \n",
              "2011-04-06 00:00:00  GENERAL CONSTRUCTION          GAS  RESIDENTIAL BUILDING   \n",
              "2011-04-06 00:00:00              PLUMBING  WATER-LEAKS  RESIDENTIAL BUILDING   \n",
              "\n",
              "                    Incident Zip      City  \\\n",
              "Created Date                                 \n",
              "2011-04-06 00:00:00      10002.0  NEW YORK   \n",
              "2011-04-06 00:00:00      11236.0  BROOKLYN   \n",
              "2011-04-06 00:00:00      10460.0     BRONX   \n",
              "2022-07-08 11:14:43      10467.0     BRONX   \n",
              "2011-04-06 00:00:00      10460.0     BRONX   \n",
              "...                          ...       ...   \n",
              "2011-04-06 00:00:00        10468     BRONX   \n",
              "2011-04-06 00:00:00        10018  NEW YORK   \n",
              "2011-04-06 00:00:00        10460     BRONX   \n",
              "2011-04-06 00:00:00        11236  BROOKLYN   \n",
              "2011-04-06 00:00:00        11236  BROOKLYN   \n",
              "\n",
              "                                                Resolution Description  \\\n",
              "Created Date                                                             \n",
              "2011-04-06 00:00:00  More than one complaint was received for this ...   \n",
              "2011-04-06 00:00:00  The Department of Housing Preservation and Dev...   \n",
              "2011-04-06 00:00:00  The Department of Housing Preservation and Dev...   \n",
              "2022-07-08 11:14:43  The Department of Sanitation investigated this...   \n",
              "2011-04-06 00:00:00  The Department of Housing Preservation and Dev...   \n",
              "...                                                                ...   \n",
              "2011-04-06 00:00:00  The Department of Housing Preservation and Dev...   \n",
              "2011-04-06 00:00:00  More than one complaint was received for this ...   \n",
              "2011-04-06 00:00:00  The Department of Housing Preservation and Dev...   \n",
              "2011-04-06 00:00:00  The Department of Housing Preservation and Dev...   \n",
              "2011-04-06 00:00:00  The Department of Housing Preservation and Dev...   \n",
              "\n",
              "                       Borough Open Data Channel Type  \n",
              "Created Date                                           \n",
              "2011-04-06 00:00:00  MANHATTAN                UNKNOWN  \n",
              "2011-04-06 00:00:00   BROOKLYN                UNKNOWN  \n",
              "2011-04-06 00:00:00      BRONX                UNKNOWN  \n",
              "2022-07-08 11:14:43      BRONX                  PHONE  \n",
              "2011-04-06 00:00:00      BRONX                UNKNOWN  \n",
              "...                        ...                    ...  \n",
              "2011-04-06 00:00:00      BRONX                UNKNOWN  \n",
              "2011-04-06 00:00:00  MANHATTAN                UNKNOWN  \n",
              "2011-04-06 00:00:00      BRONX                UNKNOWN  \n",
              "2011-04-06 00:00:00   BROOKLYN                UNKNOWN  \n",
              "2011-04-06 00:00:00   BROOKLYN                UNKNOWN  \n",
              "\n",
              "[33780977 rows x 11 columns]"
            ]
          },
          "execution_count": 4,
          "metadata": {},
          "output_type": "execute_result"
        }
      ],
      "source": [
        "data_frame"
      ]
    },
    {
      "cell_type": "code",
      "execution_count": null,
      "id": "566b7d1b-fc7d-477f-8cee-d496f95ba9c5",
      "metadata": {
        "id": "566b7d1b-fc7d-477f-8cee-d496f95ba9c5",
        "outputId": "fd17f7e7-11f0-44f8-ae4e-fbee25f08425"
      },
      "outputs": [
        {
          "data": {
            "text/html": [
              "<div>\n",
              "<style scoped>\n",
              "    .dataframe tbody tr th:only-of-type {\n",
              "        vertical-align: middle;\n",
              "    }\n",
              "\n",
              "    .dataframe tbody tr th {\n",
              "        vertical-align: top;\n",
              "    }\n",
              "\n",
              "    .dataframe thead th {\n",
              "        text-align: right;\n",
              "    }\n",
              "</style>\n",
              "<table border=\"1\" class=\"dataframe\">\n",
              "  <thead>\n",
              "    <tr style=\"text-align: right;\">\n",
              "      <th></th>\n",
              "      <th>Unique Key</th>\n",
              "      <th>Agency</th>\n",
              "      <th>Agency Name</th>\n",
              "      <th>Complaint Type</th>\n",
              "      <th>Descriptor</th>\n",
              "      <th>Location Type</th>\n",
              "      <th>Incident Zip</th>\n",
              "      <th>City</th>\n",
              "      <th>Resolution Description</th>\n",
              "      <th>Borough</th>\n",
              "      <th>Open Data Channel Type</th>\n",
              "    </tr>\n",
              "    <tr>\n",
              "      <th>Created Date</th>\n",
              "      <th></th>\n",
              "      <th></th>\n",
              "      <th></th>\n",
              "      <th></th>\n",
              "      <th></th>\n",
              "      <th></th>\n",
              "      <th></th>\n",
              "      <th></th>\n",
              "      <th></th>\n",
              "      <th></th>\n",
              "      <th></th>\n",
              "    </tr>\n",
              "  </thead>\n",
              "  <tbody>\n",
              "    <tr>\n",
              "      <th>2022-07-08 11:14:43</th>\n",
              "      <td>54732265</td>\n",
              "      <td>DSNY</td>\n",
              "      <td>Department of Sanitation</td>\n",
              "      <td>Dirty Condition</td>\n",
              "      <td>Trash</td>\n",
              "      <td>Sidewalk</td>\n",
              "      <td>10467.0</td>\n",
              "      <td>BRONX</td>\n",
              "      <td>The Department of Sanitation investigated this...</td>\n",
              "      <td>BRONX</td>\n",
              "      <td>PHONE</td>\n",
              "    </tr>\n",
              "    <tr>\n",
              "      <th>2022-07-08 12:07:45</th>\n",
              "      <td>54732266</td>\n",
              "      <td>DSNY</td>\n",
              "      <td>Department of Sanitation</td>\n",
              "      <td>Dirty Condition</td>\n",
              "      <td>Trash</td>\n",
              "      <td>Sidewalk</td>\n",
              "      <td>10009.0</td>\n",
              "      <td>NEW YORK</td>\n",
              "      <td>The Department of Sanitation investigated this...</td>\n",
              "      <td>MANHATTAN</td>\n",
              "      <td>MOBILE</td>\n",
              "    </tr>\n",
              "    <tr>\n",
              "      <th>2022-07-08 06:06:47</th>\n",
              "      <td>54732267</td>\n",
              "      <td>DSNY</td>\n",
              "      <td>Department of Sanitation</td>\n",
              "      <td>Dirty Condition</td>\n",
              "      <td>Trash</td>\n",
              "      <td>Sidewalk</td>\n",
              "      <td>11204.0</td>\n",
              "      <td>BROOKLYN</td>\n",
              "      <td>The Department of Sanitation investigated this...</td>\n",
              "      <td>BROOKLYN</td>\n",
              "      <td>MOBILE</td>\n",
              "    </tr>\n",
              "    <tr>\n",
              "      <th>2022-07-08 14:12:01</th>\n",
              "      <td>54732268</td>\n",
              "      <td>DSNY</td>\n",
              "      <td>Department of Sanitation</td>\n",
              "      <td>Dirty Condition</td>\n",
              "      <td>Trash</td>\n",
              "      <td>Sidewalk</td>\n",
              "      <td>10455.0</td>\n",
              "      <td>BRONX</td>\n",
              "      <td>The Department of Sanitation investigated this...</td>\n",
              "      <td>BRONX</td>\n",
              "      <td>MOBILE</td>\n",
              "    </tr>\n",
              "    <tr>\n",
              "      <th>2022-07-08 11:25:58</th>\n",
              "      <td>54732269</td>\n",
              "      <td>DSNY</td>\n",
              "      <td>Department of Sanitation</td>\n",
              "      <td>Dirty Condition</td>\n",
              "      <td>Trash</td>\n",
              "      <td>Sidewalk</td>\n",
              "      <td>10025.0</td>\n",
              "      <td>NEW YORK</td>\n",
              "      <td>The Department of Sanitation investigated this...</td>\n",
              "      <td>MANHATTAN</td>\n",
              "      <td>PHONE</td>\n",
              "    </tr>\n",
              "    <tr>\n",
              "      <th>...</th>\n",
              "      <td>...</td>\n",
              "      <td>...</td>\n",
              "      <td>...</td>\n",
              "      <td>...</td>\n",
              "      <td>...</td>\n",
              "      <td>...</td>\n",
              "      <td>...</td>\n",
              "      <td>...</td>\n",
              "      <td>...</td>\n",
              "      <td>...</td>\n",
              "      <td>...</td>\n",
              "    </tr>\n",
              "    <tr>\n",
              "      <th>2022-08-28 14:10:00</th>\n",
              "      <td>55237319</td>\n",
              "      <td>DEP</td>\n",
              "      <td>Department of Environmental Protection</td>\n",
              "      <td>Sewer</td>\n",
              "      <td>Defective/Missing Curb Piece (SC4)</td>\n",
              "      <td>NaN</td>\n",
              "      <td>11691</td>\n",
              "      <td>FAR ROCKAWAY</td>\n",
              "      <td>The Department of Environmental Protection inv...</td>\n",
              "      <td>QUEENS</td>\n",
              "      <td>PHONE</td>\n",
              "    </tr>\n",
              "    <tr>\n",
              "      <th>2022-11-21 16:06:35</th>\n",
              "      <td>56051500</td>\n",
              "      <td>HPD</td>\n",
              "      <td>Department of Housing Preservation and Develop...</td>\n",
              "      <td>APPLIANCE</td>\n",
              "      <td>REFRIGERATOR</td>\n",
              "      <td>RESIDENTIAL BUILDING</td>\n",
              "      <td>11238</td>\n",
              "      <td>BROOKLYN</td>\n",
              "      <td>The Department of Housing Preservation and Dev...</td>\n",
              "      <td>BROOKLYN</td>\n",
              "      <td>PHONE</td>\n",
              "    </tr>\n",
              "    <tr>\n",
              "      <th>2022-07-08 18:18:10</th>\n",
              "      <td>54732262</td>\n",
              "      <td>DSNY</td>\n",
              "      <td>Department of Sanitation</td>\n",
              "      <td>Dirty Condition</td>\n",
              "      <td>Trash</td>\n",
              "      <td>Sidewalk</td>\n",
              "      <td>10468</td>\n",
              "      <td>BRONX</td>\n",
              "      <td>The Department of Sanitation investigated this...</td>\n",
              "      <td>BRONX</td>\n",
              "      <td>MOBILE</td>\n",
              "    </tr>\n",
              "    <tr>\n",
              "      <th>2022-07-08 07:51:59</th>\n",
              "      <td>54732263</td>\n",
              "      <td>DSNY</td>\n",
              "      <td>Department of Sanitation</td>\n",
              "      <td>Dirty Condition</td>\n",
              "      <td>Trash</td>\n",
              "      <td>Sidewalk</td>\n",
              "      <td>10027</td>\n",
              "      <td>NEW YORK</td>\n",
              "      <td>The Department of Sanitation investigated this...</td>\n",
              "      <td>MANHATTAN</td>\n",
              "      <td>MOBILE</td>\n",
              "    </tr>\n",
              "    <tr>\n",
              "      <th>2022-07-08 23:31:31</th>\n",
              "      <td>54732264</td>\n",
              "      <td>DSNY</td>\n",
              "      <td>Department of Sanitation</td>\n",
              "      <td>Dirty Condition</td>\n",
              "      <td>Trash</td>\n",
              "      <td>Sidewalk</td>\n",
              "      <td>11207</td>\n",
              "      <td>BROOKLYN</td>\n",
              "      <td>The Department of Sanitation investigated this...</td>\n",
              "      <td>BROOKLYN</td>\n",
              "      <td>MOBILE</td>\n",
              "    </tr>\n",
              "  </tbody>\n",
              "</table>\n",
              "<p>3169777 rows × 11 columns</p>\n",
              "</div>"
            ],
            "text/plain": [
              "                     Unique Key Agency  \\\n",
              "Created Date                             \n",
              "2022-07-08 11:14:43    54732265   DSNY   \n",
              "2022-07-08 12:07:45    54732266   DSNY   \n",
              "2022-07-08 06:06:47    54732267   DSNY   \n",
              "2022-07-08 14:12:01    54732268   DSNY   \n",
              "2022-07-08 11:25:58    54732269   DSNY   \n",
              "...                         ...    ...   \n",
              "2022-08-28 14:10:00    55237319    DEP   \n",
              "2022-11-21 16:06:35    56051500    HPD   \n",
              "2022-07-08 18:18:10    54732262   DSNY   \n",
              "2022-07-08 07:51:59    54732263   DSNY   \n",
              "2022-07-08 23:31:31    54732264   DSNY   \n",
              "\n",
              "                                                           Agency Name  \\\n",
              "Created Date                                                             \n",
              "2022-07-08 11:14:43                           Department of Sanitation   \n",
              "2022-07-08 12:07:45                           Department of Sanitation   \n",
              "2022-07-08 06:06:47                           Department of Sanitation   \n",
              "2022-07-08 14:12:01                           Department of Sanitation   \n",
              "2022-07-08 11:25:58                           Department of Sanitation   \n",
              "...                                                                ...   \n",
              "2022-08-28 14:10:00             Department of Environmental Protection   \n",
              "2022-11-21 16:06:35  Department of Housing Preservation and Develop...   \n",
              "2022-07-08 18:18:10                           Department of Sanitation   \n",
              "2022-07-08 07:51:59                           Department of Sanitation   \n",
              "2022-07-08 23:31:31                           Department of Sanitation   \n",
              "\n",
              "                      Complaint Type                          Descriptor  \\\n",
              "Created Date                                                               \n",
              "2022-07-08 11:14:43  Dirty Condition                               Trash   \n",
              "2022-07-08 12:07:45  Dirty Condition                               Trash   \n",
              "2022-07-08 06:06:47  Dirty Condition                               Trash   \n",
              "2022-07-08 14:12:01  Dirty Condition                               Trash   \n",
              "2022-07-08 11:25:58  Dirty Condition                               Trash   \n",
              "...                              ...                                 ...   \n",
              "2022-08-28 14:10:00            Sewer  Defective/Missing Curb Piece (SC4)   \n",
              "2022-11-21 16:06:35        APPLIANCE                        REFRIGERATOR   \n",
              "2022-07-08 18:18:10  Dirty Condition                               Trash   \n",
              "2022-07-08 07:51:59  Dirty Condition                               Trash   \n",
              "2022-07-08 23:31:31  Dirty Condition                               Trash   \n",
              "\n",
              "                            Location Type Incident Zip          City  \\\n",
              "Created Date                                                           \n",
              "2022-07-08 11:14:43              Sidewalk      10467.0         BRONX   \n",
              "2022-07-08 12:07:45              Sidewalk      10009.0      NEW YORK   \n",
              "2022-07-08 06:06:47              Sidewalk      11204.0      BROOKLYN   \n",
              "2022-07-08 14:12:01              Sidewalk      10455.0         BRONX   \n",
              "2022-07-08 11:25:58              Sidewalk      10025.0      NEW YORK   \n",
              "...                                   ...          ...           ...   \n",
              "2022-08-28 14:10:00                   NaN        11691  FAR ROCKAWAY   \n",
              "2022-11-21 16:06:35  RESIDENTIAL BUILDING        11238      BROOKLYN   \n",
              "2022-07-08 18:18:10              Sidewalk        10468         BRONX   \n",
              "2022-07-08 07:51:59              Sidewalk        10027      NEW YORK   \n",
              "2022-07-08 23:31:31              Sidewalk        11207      BROOKLYN   \n",
              "\n",
              "                                                Resolution Description  \\\n",
              "Created Date                                                             \n",
              "2022-07-08 11:14:43  The Department of Sanitation investigated this...   \n",
              "2022-07-08 12:07:45  The Department of Sanitation investigated this...   \n",
              "2022-07-08 06:06:47  The Department of Sanitation investigated this...   \n",
              "2022-07-08 14:12:01  The Department of Sanitation investigated this...   \n",
              "2022-07-08 11:25:58  The Department of Sanitation investigated this...   \n",
              "...                                                                ...   \n",
              "2022-08-28 14:10:00  The Department of Environmental Protection inv...   \n",
              "2022-11-21 16:06:35  The Department of Housing Preservation and Dev...   \n",
              "2022-07-08 18:18:10  The Department of Sanitation investigated this...   \n",
              "2022-07-08 07:51:59  The Department of Sanitation investigated this...   \n",
              "2022-07-08 23:31:31  The Department of Sanitation investigated this...   \n",
              "\n",
              "                       Borough Open Data Channel Type  \n",
              "Created Date                                           \n",
              "2022-07-08 11:14:43      BRONX                  PHONE  \n",
              "2022-07-08 12:07:45  MANHATTAN                 MOBILE  \n",
              "2022-07-08 06:06:47   BROOKLYN                 MOBILE  \n",
              "2022-07-08 14:12:01      BRONX                 MOBILE  \n",
              "2022-07-08 11:25:58  MANHATTAN                  PHONE  \n",
              "...                        ...                    ...  \n",
              "2022-08-28 14:10:00     QUEENS                  PHONE  \n",
              "2022-11-21 16:06:35   BROOKLYN                  PHONE  \n",
              "2022-07-08 18:18:10      BRONX                 MOBILE  \n",
              "2022-07-08 07:51:59  MANHATTAN                 MOBILE  \n",
              "2022-07-08 23:31:31   BROOKLYN                 MOBILE  \n",
              "\n",
              "[3169777 rows x 11 columns]"
            ]
          },
          "execution_count": 5,
          "metadata": {},
          "output_type": "execute_result"
        }
      ],
      "source": [
        "temp_data_frame = data_frame.loc['2022']\n",
        "temp_data_frame"
      ]
    },
    {
      "cell_type": "code",
      "execution_count": null,
      "id": "959f4a76-0060-4d6d-9b04-d2526130df44",
      "metadata": {
        "id": "959f4a76-0060-4d6d-9b04-d2526130df44"
      },
      "outputs": [],
      "source": [
        "daily_cases_2022 = temp_data_frame['Unique Key'].resample('D').count()"
      ]
    },
    {
      "cell_type": "code",
      "execution_count": null,
      "id": "1c029562-4a2a-46bd-99eb-a38c53a7ed17",
      "metadata": {
        "id": "1c029562-4a2a-46bd-99eb-a38c53a7ed17",
        "outputId": "7a4e0751-c8c1-4924-d747-601f7e22c79b"
      },
      "outputs": [
        {
          "data": {
            "text/plain": [
              "8684.320547945206"
            ]
          },
          "execution_count": 7,
          "metadata": {},
          "output_type": "execute_result"
        }
      ],
      "source": [
        "avg_daily_cases_2022 = daily_cases_2022.mean()\n",
        "avg_daily_cases_2022"
      ]
    },
    {
      "cell_type": "code",
      "execution_count": null,
      "id": "7b6ebb10-344f-41c6-9188-070009432201",
      "metadata": {
        "id": "7b6ebb10-344f-41c6-9188-070009432201",
        "outputId": "20ce47e0-e932-46c4-978d-735ad439e61b"
      },
      "outputs": [
        {
          "data": {
            "text/plain": [
              "Timestamp('2020-08-04 00:00:00')"
            ]
          },
          "execution_count": 8,
          "metadata": {},
          "output_type": "execute_result"
        }
      ],
      "source": [
        "daily_cases = data_frame['Unique Key'].resample('D').count()\n",
        "peak_cases_date = daily_cases.idxmax()\n",
        "peak_cases_date"
      ]
    },
    {
      "cell_type": "code",
      "execution_count": null,
      "id": "4be078f1-922e-4936-98d3-e1997129ec5f",
      "metadata": {
        "id": "4be078f1-922e-4936-98d3-e1997129ec5f",
        "outputId": "3d790839-158b-4f1c-c0d9-6595d21fbec6"
      },
      "outputs": [
        {
          "data": {
            "text/plain": [
              "Complaint Type\n",
              "Damaged Tree                           14863\n",
              "Noise - Residential                      982\n",
              "Request Large Bulky Item Collection      909\n",
              "Street Light Condition                   617\n",
              "Overgrown Tree/Branches                  609\n",
              "                                       ...  \n",
              "Bus Stop Shelter Placement                 1\n",
              "Unsanitary Pigeon Condition                1\n",
              "Public Payphone Complaint                  1\n",
              "For Hire Vehicle Report                    1\n",
              "Bridge Condition                           1\n",
              "Name: count, Length: 125, dtype: int64"
            ]
          },
          "execution_count": 9,
          "metadata": {},
          "output_type": "execute_result"
        }
      ],
      "source": [
        "cases_on_peak_date = data_frame.loc[peak_cases_date.strftime('2020-08-04')]\n",
        "case_counts = cases_on_peak_date['Complaint Type'].value_counts()\n",
        "case_counts"
      ]
    },
    {
      "cell_type": "code",
      "execution_count": null,
      "id": "097796fd-e80b-411c-a37d-3945222c860d",
      "metadata": {
        "id": "097796fd-e80b-411c-a37d-3945222c860d",
        "outputId": "267a676d-e01d-4ae2-d348-962bbf485b66"
      },
      "outputs": [
        {
          "data": {
            "text/plain": [
              "12"
            ]
          },
          "execution_count": 10,
          "metadata": {},
          "output_type": "execute_result"
        }
      ],
      "source": [
        "monthly_cases = data_frame['Unique Key'].resample('ME').count()\n",
        "monthly_cases_by_month = monthly_cases.groupby(monthly_cases.index.month).sum()\n",
        "least_busy_month = monthly_cases_by_month.idxmin()\n",
        "least_busy_month"
      ]
    },
    {
      "cell_type": "code",
      "execution_count": null,
      "id": "3e6899c9-edd2-4438-b29e-91ba8da0f40b",
      "metadata": {
        "id": "3e6899c9-edd2-4438-b29e-91ba8da0f40b",
        "outputId": "bfa8911f-3027-4529-8cd8-ebbb9c91ace5"
      },
      "outputs": [
        {
          "data": {
            "text/plain": [
              "182.69763790386236"
            ]
          },
          "execution_count": 11,
          "metadata": {},
          "output_type": "execute_result"
        }
      ],
      "source": [
        "import matplotlib.pyplot as plt\n",
        "from statsmodels.tsa.seasonal import seasonal_decompose\n",
        "\n",
        "decomposition_result = seasonal_decompose(daily_cases, model='additive')\n",
        "seasonality = decomposition_result.seasonal\n",
        "seasonal_value_specific_date = seasonality['2020-12-25']\n",
        "seasonal_value_specific_date"
      ]
    },
    {
      "cell_type": "code",
      "execution_count": null,
      "id": "dd07ed70-7ce5-4995-a535-754175fca57a",
      "metadata": {
        "id": "dd07ed70-7ce5-4995-a535-754175fca57a",
        "outputId": "c3fa8b12-4ff6-4318-c510-578f0494a165"
      },
      "outputs": [
        {
          "data": {
            "text/plain": [
              "0.7517059728398577"
            ]
          },
          "execution_count": 12,
          "metadata": {},
          "output_type": "execute_result"
        }
      ],
      "source": [
        "autocorr_lag_one = daily_cases.autocorr(lag=1)\n",
        "autocorr_lag_one"
      ]
    },
    {
      "cell_type": "code",
      "execution_count": null,
      "id": "c927683b-0e0c-4218-ae2c-5f5bccf00d86",
      "metadata": {
        "id": "c927683b-0e0c-4218-ae2c-5f5bccf00d86"
      },
      "outputs": [],
      "source": [
        "prophet_data_frame = pd.DataFrame({\n",
        "    'ds': daily_cases.index,\n",
        "    'y': daily_cases.values\n",
        "})"
      ]
    },
    {
      "cell_type": "code",
      "execution_count": null,
      "id": "280e41a6-7817-4074-8e92-9f400b038d8b",
      "metadata": {
        "id": "280e41a6-7817-4074-8e92-9f400b038d8b"
      },
      "outputs": [],
      "source": [
        "train_data = prophet_data_frame.iloc[:-90]\n",
        "test_data = prophet_data_frame.iloc[-90:]"
      ]
    },
    {
      "cell_type": "code",
      "execution_count": null,
      "id": "d1eafb57-db3b-48e1-a282-4f0e2896c6d8",
      "metadata": {
        "id": "d1eafb57-db3b-48e1-a282-4f0e2896c6d8",
        "outputId": "dceee8a1-8323-4674-a0e0-08295bb0be6e"
      },
      "outputs": [
        {
          "name": "stderr",
          "output_type": "stream",
          "text": [
            "/opt/conda/envs/mggy8413/lib/python3.11/site-packages/tqdm/auto.py:21: TqdmWarning: IProgress not found. Please update jupyter and ipywidgets. See https://ipywidgets.readthedocs.io/en/stable/user_install.html\n",
            "  from .autonotebook import tqdm as notebook_tqdm\n"
          ]
        }
      ],
      "source": [
        "from prophet import Prophet"
      ]
    },
    {
      "cell_type": "code",
      "execution_count": null,
      "id": "f98f1143-c469-4f0a-8017-6f75b90d2743",
      "metadata": {
        "id": "f98f1143-c469-4f0a-8017-6f75b90d2743",
        "outputId": "1feaed7f-bb15-48ba-96aa-ba81fea679cd"
      },
      "outputs": [
        {
          "name": "stderr",
          "output_type": "stream",
          "text": [
            "23:46:35 - cmdstanpy - INFO - Chain [1] start processing\n",
            "23:46:37 - cmdstanpy - INFO - Chain [1] done processing\n"
          ]
        },
        {
          "data": {
            "text/plain": [
              "<prophet.forecaster.Prophet at 0x7fd2735aa410>"
            ]
          },
          "execution_count": 16,
          "metadata": {},
          "output_type": "execute_result"
        }
      ],
      "source": [
        "forecast_model = Prophet(daily_seasonality=True)\n",
        "forecast_model.fit(train_data)"
      ]
    },
    {
      "cell_type": "code",
      "execution_count": null,
      "id": "e95d1d46-68a3-41bf-b92a-a6e683c407ed",
      "metadata": {
        "id": "e95d1d46-68a3-41bf-b92a-a6e683c407ed"
      },
      "outputs": [],
      "source": [
        "future_data = forecast_model.make_future_dataframe(periods=90, freq='D')\n",
        "prediction = forecast_model.predict(future_data)\n",
        "forecast_values = prediction[-90:]['yhat']"
      ]
    },
    {
      "cell_type": "code",
      "execution_count": null,
      "id": "3551645b-fb93-46bb-b8b5-dd2fd52386ba",
      "metadata": {
        "id": "3551645b-fb93-46bb-b8b5-dd2fd52386ba",
        "outputId": "d05b9c1d-b9f5-4ee6-aa22-61a804c7d315"
      },
      "outputs": [
        {
          "data": {
            "text/plain": [
              "1229.8480710675256"
            ]
          },
          "execution_count": 18,
          "metadata": {},
          "output_type": "execute_result"
        }
      ],
      "source": [
        "from sklearn.metrics import mean_squared_error\n",
        "root_mean_sq_error = np.sqrt(mean_squared_error(test_data['y'], forecast_values))\n",
        "root_mean_sq_error"
      ]
    },
    {
      "cell_type": "code",
      "execution_count": null,
      "id": "7c80e3c7-78ed-4592-b410-1e37321f5a4e",
      "metadata": {
        "id": "7c80e3c7-78ed-4592-b410-1e37321f5a4e"
      },
      "outputs": [],
      "source": []
    }
  ],
  "metadata": {
    "kernelspec": {
      "display_name": "Python [conda env:mggy8413]",
      "language": "python",
      "name": "conda-env-mggy8413-py"
    },
    "language_info": {
      "codemirror_mode": {
        "name": "ipython",
        "version": 3
      },
      "file_extension": ".py",
      "mimetype": "text/x-python",
      "name": "python",
      "nbconvert_exporter": "python",
      "pygments_lexer": "ipython3",
      "version": "3.11.8"
    },
    "colab": {
      "provenance": [],
      "include_colab_link": true
    }
  },
  "nbformat": 4,
  "nbformat_minor": 5
}