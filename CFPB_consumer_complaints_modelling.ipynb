{
  "cells": [
    {
      "cell_type": "markdown",
      "metadata": {
        "id": "view-in-github",
        "colab_type": "text"
      },
      "source": [
        "<a href=\"https://colab.research.google.com/github/sanjeevk264/BA/blob/main/CFPB_consumer_complaints_modelling.ipynb\" target=\"_parent\"><img src=\"https://colab.research.google.com/assets/colab-badge.svg\" alt=\"Open In Colab\"/></a>"
      ]
    },
    {
      "cell_type": "code",
      "execution_count": null,
      "id": "0a78016e-c839-490d-8271-9cb32a8de3c8",
      "metadata": {
        "id": "0a78016e-c839-490d-8271-9cb32a8de3c8"
      },
      "outputs": [],
      "source": [
        "# Import essential libraries for data handling and machine learning\n",
        "import pandas as pd\n",
        "import numpy as np\n",
        "from sklearn.preprocessing import LabelEncoder, OneHotEncoder\n",
        "from sklearn.metrics import classification_report, confusion_matrix\n",
        "from sklearn.model_selection import train_test_split\n",
        "from imblearn.under_sampling import RandomUnderSampler\n",
        "from xgboost import XGBClassifier\n",
        "from sklearn import preprocessing\n"
      ]
    },
    {
      "cell_type": "code",
      "execution_count": null,
      "id": "03fff921-e173-4fa5-875c-ce4c2917f39e",
      "metadata": {
        "scrolled": true,
        "id": "03fff921-e173-4fa5-875c-ce4c2917f39e",
        "outputId": "3bafab7e-be2b-406d-b55c-93ac9b92d43f"
      },
      "outputs": [
        {
          "data": {
            "text/html": [
              "<div>\n",
              "<style scoped>\n",
              "    .dataframe tbody tr th:only-of-type {\n",
              "        vertical-align: middle;\n",
              "    }\n",
              "\n",
              "    .dataframe tbody tr th {\n",
              "        vertical-align: top;\n",
              "    }\n",
              "\n",
              "    .dataframe thead th {\n",
              "        text-align: right;\n",
              "    }\n",
              "</style>\n",
              "<table border=\"1\" class=\"dataframe\">\n",
              "  <thead>\n",
              "    <tr style=\"text-align: right;\">\n",
              "      <th></th>\n",
              "      <th>Date received</th>\n",
              "      <th>Product</th>\n",
              "      <th>Sub-product</th>\n",
              "      <th>Issue</th>\n",
              "      <th>Sub-issue</th>\n",
              "      <th>Consumer complaint narrative</th>\n",
              "      <th>Company public response</th>\n",
              "      <th>Company</th>\n",
              "      <th>State</th>\n",
              "      <th>ZIP code</th>\n",
              "      <th>Tags</th>\n",
              "      <th>Consumer consent provided?</th>\n",
              "      <th>Submitted via</th>\n",
              "      <th>Date sent to company</th>\n",
              "      <th>Company response to consumer</th>\n",
              "      <th>Timely response?</th>\n",
              "      <th>Consumer disputed?</th>\n",
              "      <th>Complaint ID</th>\n",
              "    </tr>\n",
              "  </thead>\n",
              "  <tbody>\n",
              "    <tr>\n",
              "      <th>0</th>\n",
              "      <td>2016-10-26</td>\n",
              "      <td>Money transfers</td>\n",
              "      <td>International money transfer</td>\n",
              "      <td>Other transaction issues</td>\n",
              "      <td>NaN</td>\n",
              "      <td>To whom it concerns, I would like to file a fo...</td>\n",
              "      <td>Company has responded to the consumer and the ...</td>\n",
              "      <td>CITIBANK, N.A.</td>\n",
              "      <td>NaN</td>\n",
              "      <td>NaN</td>\n",
              "      <td>NaN</td>\n",
              "      <td>Consent provided</td>\n",
              "      <td>Web</td>\n",
              "      <td>2016-10-29</td>\n",
              "      <td>Closed with explanation</td>\n",
              "      <td>Yes</td>\n",
              "      <td>No</td>\n",
              "      <td>2180490</td>\n",
              "    </tr>\n",
              "    <tr>\n",
              "      <th>1</th>\n",
              "      <td>2015-03-27</td>\n",
              "      <td>Bank account or service</td>\n",
              "      <td>Other bank product/service</td>\n",
              "      <td>Account opening, closing, or management</td>\n",
              "      <td>NaN</td>\n",
              "      <td>My name is XXXX XXXX XXXX and huband name is X...</td>\n",
              "      <td>Company chooses not to provide a public response</td>\n",
              "      <td>CITIBANK, N.A.</td>\n",
              "      <td>PA</td>\n",
              "      <td>151XX</td>\n",
              "      <td>Older American</td>\n",
              "      <td>Consent provided</td>\n",
              "      <td>Web</td>\n",
              "      <td>2015-03-27</td>\n",
              "      <td>Closed with explanation</td>\n",
              "      <td>Yes</td>\n",
              "      <td>No</td>\n",
              "      <td>1305453</td>\n",
              "    </tr>\n",
              "    <tr>\n",
              "      <th>2</th>\n",
              "      <td>2015-04-20</td>\n",
              "      <td>Bank account or service</td>\n",
              "      <td>Other bank product/service</td>\n",
              "      <td>Making/receiving payments, sending money</td>\n",
              "      <td>NaN</td>\n",
              "      <td>XXXX 2015 : I called to make a payment on XXXX...</td>\n",
              "      <td>Company chooses not to provide a public response</td>\n",
              "      <td>U.S. BANCORP</td>\n",
              "      <td>PA</td>\n",
              "      <td>152XX</td>\n",
              "      <td>NaN</td>\n",
              "      <td>Consent provided</td>\n",
              "      <td>Web</td>\n",
              "      <td>2015-04-22</td>\n",
              "      <td>Closed with monetary relief</td>\n",
              "      <td>Yes</td>\n",
              "      <td>No</td>\n",
              "      <td>1337613</td>\n",
              "    </tr>\n",
              "    <tr>\n",
              "      <th>3</th>\n",
              "      <td>2013-04-29</td>\n",
              "      <td>Mortgage</td>\n",
              "      <td>Conventional fixed mortgage</td>\n",
              "      <td>Application, originator, mortgage broker</td>\n",
              "      <td>NaN</td>\n",
              "      <td>NaN</td>\n",
              "      <td>NaN</td>\n",
              "      <td>JPMORGAN CHASE &amp; CO.</td>\n",
              "      <td>VA</td>\n",
              "      <td>22406</td>\n",
              "      <td>Servicemember</td>\n",
              "      <td>NaN</td>\n",
              "      <td>Phone</td>\n",
              "      <td>2013-04-30</td>\n",
              "      <td>Closed with explanation</td>\n",
              "      <td>Yes</td>\n",
              "      <td>Yes</td>\n",
              "      <td>393900</td>\n",
              "    </tr>\n",
              "    <tr>\n",
              "      <th>4</th>\n",
              "      <td>2013-05-29</td>\n",
              "      <td>Mortgage</td>\n",
              "      <td>Other mortgage</td>\n",
              "      <td>Loan modification,collection,foreclosure</td>\n",
              "      <td>NaN</td>\n",
              "      <td>NaN</td>\n",
              "      <td>NaN</td>\n",
              "      <td>BANK OF AMERICA, NATIONAL ASSOCIATION</td>\n",
              "      <td>GA</td>\n",
              "      <td>30044</td>\n",
              "      <td>NaN</td>\n",
              "      <td>NaN</td>\n",
              "      <td>Referral</td>\n",
              "      <td>2013-05-31</td>\n",
              "      <td>Closed with explanation</td>\n",
              "      <td>Yes</td>\n",
              "      <td>No</td>\n",
              "      <td>418647</td>\n",
              "    </tr>\n",
              "  </tbody>\n",
              "</table>\n",
              "</div>"
            ],
            "text/plain": [
              "  Date received                  Product                   Sub-product  \\\n",
              "0    2016-10-26          Money transfers  International money transfer   \n",
              "1    2015-03-27  Bank account or service    Other bank product/service   \n",
              "2    2015-04-20  Bank account or service    Other bank product/service   \n",
              "3    2013-04-29                 Mortgage   Conventional fixed mortgage   \n",
              "4    2013-05-29                 Mortgage                Other mortgage   \n",
              "\n",
              "                                      Issue Sub-issue  \\\n",
              "0                  Other transaction issues       NaN   \n",
              "1   Account opening, closing, or management       NaN   \n",
              "2  Making/receiving payments, sending money       NaN   \n",
              "3  Application, originator, mortgage broker       NaN   \n",
              "4  Loan modification,collection,foreclosure       NaN   \n",
              "\n",
              "                        Consumer complaint narrative  \\\n",
              "0  To whom it concerns, I would like to file a fo...   \n",
              "1  My name is XXXX XXXX XXXX and huband name is X...   \n",
              "2  XXXX 2015 : I called to make a payment on XXXX...   \n",
              "3                                                NaN   \n",
              "4                                                NaN   \n",
              "\n",
              "                             Company public response  \\\n",
              "0  Company has responded to the consumer and the ...   \n",
              "1   Company chooses not to provide a public response   \n",
              "2   Company chooses not to provide a public response   \n",
              "3                                                NaN   \n",
              "4                                                NaN   \n",
              "\n",
              "                                 Company State ZIP code            Tags  \\\n",
              "0                         CITIBANK, N.A.   NaN      NaN             NaN   \n",
              "1                         CITIBANK, N.A.    PA    151XX  Older American   \n",
              "2                           U.S. BANCORP    PA    152XX             NaN   \n",
              "3                   JPMORGAN CHASE & CO.    VA    22406   Servicemember   \n",
              "4  BANK OF AMERICA, NATIONAL ASSOCIATION    GA    30044             NaN   \n",
              "\n",
              "  Consumer consent provided? Submitted via Date sent to company  \\\n",
              "0           Consent provided           Web           2016-10-29   \n",
              "1           Consent provided           Web           2015-03-27   \n",
              "2           Consent provided           Web           2015-04-22   \n",
              "3                        NaN         Phone           2013-04-30   \n",
              "4                        NaN      Referral           2013-05-31   \n",
              "\n",
              "  Company response to consumer Timely response? Consumer disputed?  \\\n",
              "0      Closed with explanation              Yes                 No   \n",
              "1      Closed with explanation              Yes                 No   \n",
              "2  Closed with monetary relief              Yes                 No   \n",
              "3      Closed with explanation              Yes                Yes   \n",
              "4      Closed with explanation              Yes                 No   \n",
              "\n",
              "   Complaint ID  \n",
              "0       2180490  \n",
              "1       1305453  \n",
              "2       1337613  \n",
              "3        393900  \n",
              "4        418647  "
            ]
          },
          "execution_count": 2,
          "metadata": {},
          "output_type": "execute_result"
        }
      ],
      "source": [
        "# Load the dataset into a DataFrame and display the first few rows\n",
        "dataset_path = 'shared/complaints_25Nov21.csv'\n",
        "data_frame = pd.read_csv(dataset_path)\n",
        "data_frame.head()\n"
      ]
    },
    {
      "cell_type": "code",
      "execution_count": null,
      "id": "6c0db3ed-810c-41bc-a9a7-10fafd3644cf",
      "metadata": {
        "id": "6c0db3ed-810c-41bc-a9a7-10fafd3644cf"
      },
      "outputs": [],
      "source": [
        "# Specify the columns of interest for the analysis\n",
        "features_to_analyze = ['Product', 'Sub-product', 'Issue', 'State', 'Tags', 'Submitted via',\n",
        "                       'Company response to consumer', 'Timely response?']\n"
      ]
    },
    {
      "cell_type": "code",
      "execution_count": null,
      "id": "85bc8a95-ef8e-4012-865a-ab4f069ca510",
      "metadata": {
        "id": "85bc8a95-ef8e-4012-865a-ab4f069ca510"
      },
      "outputs": [],
      "source": [
        "# Extract features and target variable from the dataset\n",
        "features_matrix = data_frame[features_to_analyze]\n",
        "target_variable = data_frame['Consumer disputed?']\n",
        "# Encode the target variable for model training\n",
        "target_encoder = LabelEncoder()\n",
        "encoded_target = target_encoder.fit_transform(target_variable)\n"
      ]
    },
    {
      "cell_type": "code",
      "execution_count": null,
      "id": "2ee25dd2-04e6-41a1-b2df-cd4f8e0c5e7d",
      "metadata": {
        "id": "2ee25dd2-04e6-41a1-b2df-cd4f8e0c5e7d"
      },
      "outputs": [],
      "source": [
        "from sklearn.compose import ColumnTransformer\n",
        "categorical_cols = features_matrix.select_dtypes(include=['object']).columns\n",
        "column_transformer = ColumnTransformer([\n",
        "    ('encode_categorical', OneHotEncoder(handle_unknown='ignore'), categorical_cols)\n",
        "], sparse_threshold=0) # This ensures the output is a dense array\n",
        "transformed_features = column_transformer.fit_transform(features_matrix)\n"
      ]
    },
    {
      "cell_type": "code",
      "execution_count": null,
      "id": "c4cc577b-6d32-480f-9865-a8df51e50442",
      "metadata": {
        "id": "c4cc577b-6d32-480f-9865-a8df51e50442"
      },
      "outputs": [],
      "source": [
        "# Split the dataset into training and testing sets\n",
        "features_train, features_test, target_train, target_test = train_test_split(transformed_features, encoded_target, test_size=0.2, random_state=123)\n"
      ]
    },
    {
      "cell_type": "code",
      "execution_count": null,
      "id": "941036be-5cc6-42d7-baa5-23073af57036",
      "metadata": {
        "id": "941036be-5cc6-42d7-baa5-23073af57036",
        "outputId": "15d28a1e-aa65-47bc-9e80-f06c908c7219"
      },
      "outputs": [
        {
          "data": {
            "text/plain": [
              "0.21684719675769565"
            ]
          },
          "execution_count": 8,
          "metadata": {},
          "output_type": "execute_result"
        }
      ],
      "source": [
        "# Calculate the proportion of disputed cases in the training set\n",
        "disputed_proportion = np.sum(target_train) / len(target_train)\n",
        "disputed_proportion\n"
      ]
    },
    {
      "cell_type": "code",
      "execution_count": null,
      "id": "3836922f-2210-498f-bc7d-fb3ed440ef5a",
      "metadata": {
        "id": "3836922f-2210-498f-bc7d-fb3ed440ef5a"
      },
      "outputs": [],
      "source": [
        "# Apply under-sampling to balance the dataset\n",
        "undersample = RandomUnderSampler(random_state=123)\n",
        "balanced_features_train, balanced_target_train = undersample.fit_resample(transformed_features, encoded_target)\n"
      ]
    },
    {
      "cell_type": "code",
      "execution_count": null,
      "id": "56492c0c-2506-48ec-a058-84a4e3eea10c",
      "metadata": {
        "id": "56492c0c-2506-48ec-a058-84a4e3eea10c",
        "outputId": "2a275bd0-e3ba-4a91-f9ef-d80ad5f15e4a"
      },
      "outputs": [
        {
          "data": {
            "text/html": [
              "<style>#sk-container-id-1 {\n",
              "  /* Definition of color scheme common for light and dark mode */\n",
              "  --sklearn-color-text: black;\n",
              "  --sklearn-color-line: gray;\n",
              "  /* Definition of color scheme for unfitted estimators */\n",
              "  --sklearn-color-unfitted-level-0: #fff5e6;\n",
              "  --sklearn-color-unfitted-level-1: #f6e4d2;\n",
              "  --sklearn-color-unfitted-level-2: #ffe0b3;\n",
              "  --sklearn-color-unfitted-level-3: chocolate;\n",
              "  /* Definition of color scheme for fitted estimators */\n",
              "  --sklearn-color-fitted-level-0: #f0f8ff;\n",
              "  --sklearn-color-fitted-level-1: #d4ebff;\n",
              "  --sklearn-color-fitted-level-2: #b3dbfd;\n",
              "  --sklearn-color-fitted-level-3: cornflowerblue;\n",
              "\n",
              "  /* Specific color for light theme */\n",
              "  --sklearn-color-text-on-default-background: var(--sg-text-color, var(--theme-code-foreground, var(--jp-content-font-color1, black)));\n",
              "  --sklearn-color-background: var(--sg-background-color, var(--theme-background, var(--jp-layout-color0, white)));\n",
              "  --sklearn-color-border-box: var(--sg-text-color, var(--theme-code-foreground, var(--jp-content-font-color1, black)));\n",
              "  --sklearn-color-icon: #696969;\n",
              "\n",
              "  @media (prefers-color-scheme: dark) {\n",
              "    /* Redefinition of color scheme for dark theme */\n",
              "    --sklearn-color-text-on-default-background: var(--sg-text-color, var(--theme-code-foreground, var(--jp-content-font-color1, white)));\n",
              "    --sklearn-color-background: var(--sg-background-color, var(--theme-background, var(--jp-layout-color0, #111)));\n",
              "    --sklearn-color-border-box: var(--sg-text-color, var(--theme-code-foreground, var(--jp-content-font-color1, white)));\n",
              "    --sklearn-color-icon: #878787;\n",
              "  }\n",
              "}\n",
              "\n",
              "#sk-container-id-1 {\n",
              "  color: var(--sklearn-color-text);\n",
              "}\n",
              "\n",
              "#sk-container-id-1 pre {\n",
              "  padding: 0;\n",
              "}\n",
              "\n",
              "#sk-container-id-1 input.sk-hidden--visually {\n",
              "  border: 0;\n",
              "  clip: rect(1px 1px 1px 1px);\n",
              "  clip: rect(1px, 1px, 1px, 1px);\n",
              "  height: 1px;\n",
              "  margin: -1px;\n",
              "  overflow: hidden;\n",
              "  padding: 0;\n",
              "  position: absolute;\n",
              "  width: 1px;\n",
              "}\n",
              "\n",
              "#sk-container-id-1 div.sk-dashed-wrapped {\n",
              "  border: 1px dashed var(--sklearn-color-line);\n",
              "  margin: 0 0.4em 0.5em 0.4em;\n",
              "  box-sizing: border-box;\n",
              "  padding-bottom: 0.4em;\n",
              "  background-color: var(--sklearn-color-background);\n",
              "}\n",
              "\n",
              "#sk-container-id-1 div.sk-container {\n",
              "  /* jupyter's `normalize.less` sets `[hidden] { display: none; }`\n",
              "     but bootstrap.min.css set `[hidden] { display: none !important; }`\n",
              "     so we also need the `!important` here to be able to override the\n",
              "     default hidden behavior on the sphinx rendered scikit-learn.org.\n",
              "     See: https://github.com/scikit-learn/scikit-learn/issues/21755 */\n",
              "  display: inline-block !important;\n",
              "  position: relative;\n",
              "}\n",
              "\n",
              "#sk-container-id-1 div.sk-text-repr-fallback {\n",
              "  display: none;\n",
              "}\n",
              "\n",
              "div.sk-parallel-item,\n",
              "div.sk-serial,\n",
              "div.sk-item {\n",
              "  /* draw centered vertical line to link estimators */\n",
              "  background-image: linear-gradient(var(--sklearn-color-text-on-default-background), var(--sklearn-color-text-on-default-background));\n",
              "  background-size: 2px 100%;\n",
              "  background-repeat: no-repeat;\n",
              "  background-position: center center;\n",
              "}\n",
              "\n",
              "/* Parallel-specific style estimator block */\n",
              "\n",
              "#sk-container-id-1 div.sk-parallel-item::after {\n",
              "  content: \"\";\n",
              "  width: 100%;\n",
              "  border-bottom: 2px solid var(--sklearn-color-text-on-default-background);\n",
              "  flex-grow: 1;\n",
              "}\n",
              "\n",
              "#sk-container-id-1 div.sk-parallel {\n",
              "  display: flex;\n",
              "  align-items: stretch;\n",
              "  justify-content: center;\n",
              "  background-color: var(--sklearn-color-background);\n",
              "  position: relative;\n",
              "}\n",
              "\n",
              "#sk-container-id-1 div.sk-parallel-item {\n",
              "  display: flex;\n",
              "  flex-direction: column;\n",
              "}\n",
              "\n",
              "#sk-container-id-1 div.sk-parallel-item:first-child::after {\n",
              "  align-self: flex-end;\n",
              "  width: 50%;\n",
              "}\n",
              "\n",
              "#sk-container-id-1 div.sk-parallel-item:last-child::after {\n",
              "  align-self: flex-start;\n",
              "  width: 50%;\n",
              "}\n",
              "\n",
              "#sk-container-id-1 div.sk-parallel-item:only-child::after {\n",
              "  width: 0;\n",
              "}\n",
              "\n",
              "/* Serial-specific style estimator block */\n",
              "\n",
              "#sk-container-id-1 div.sk-serial {\n",
              "  display: flex;\n",
              "  flex-direction: column;\n",
              "  align-items: center;\n",
              "  background-color: var(--sklearn-color-background);\n",
              "  padding-right: 1em;\n",
              "  padding-left: 1em;\n",
              "}\n",
              "\n",
              "\n",
              "/* Toggleable style: style used for estimator/Pipeline/ColumnTransformer box that is\n",
              "clickable and can be expanded/collapsed.\n",
              "- Pipeline and ColumnTransformer use this feature and define the default style\n",
              "- Estimators will overwrite some part of the style using the `sk-estimator` class\n",
              "*/\n",
              "\n",
              "/* Pipeline and ColumnTransformer style (default) */\n",
              "\n",
              "#sk-container-id-1 div.sk-toggleable {\n",
              "  /* Default theme specific background. It is overwritten whether we have a\n",
              "  specific estimator or a Pipeline/ColumnTransformer */\n",
              "  background-color: var(--sklearn-color-background);\n",
              "}\n",
              "\n",
              "/* Toggleable label */\n",
              "#sk-container-id-1 label.sk-toggleable__label {\n",
              "  cursor: pointer;\n",
              "  display: block;\n",
              "  width: 100%;\n",
              "  margin-bottom: 0;\n",
              "  padding: 0.5em;\n",
              "  box-sizing: border-box;\n",
              "  text-align: center;\n",
              "}\n",
              "\n",
              "#sk-container-id-1 label.sk-toggleable__label-arrow:before {\n",
              "  /* Arrow on the left of the label */\n",
              "  content: \"▸\";\n",
              "  float: left;\n",
              "  margin-right: 0.25em;\n",
              "  color: var(--sklearn-color-icon);\n",
              "}\n",
              "\n",
              "#sk-container-id-1 label.sk-toggleable__label-arrow:hover:before {\n",
              "  color: var(--sklearn-color-text);\n",
              "}\n",
              "\n",
              "/* Toggleable content - dropdown */\n",
              "\n",
              "#sk-container-id-1 div.sk-toggleable__content {\n",
              "  max-height: 0;\n",
              "  max-width: 0;\n",
              "  overflow: hidden;\n",
              "  text-align: left;\n",
              "  /* unfitted */\n",
              "  background-color: var(--sklearn-color-unfitted-level-0);\n",
              "}\n",
              "\n",
              "#sk-container-id-1 div.sk-toggleable__content.fitted {\n",
              "  /* fitted */\n",
              "  background-color: var(--sklearn-color-fitted-level-0);\n",
              "}\n",
              "\n",
              "#sk-container-id-1 div.sk-toggleable__content pre {\n",
              "  margin: 0.2em;\n",
              "  border-radius: 0.25em;\n",
              "  color: var(--sklearn-color-text);\n",
              "  /* unfitted */\n",
              "  background-color: var(--sklearn-color-unfitted-level-0);\n",
              "}\n",
              "\n",
              "#sk-container-id-1 div.sk-toggleable__content.fitted pre {\n",
              "  /* unfitted */\n",
              "  background-color: var(--sklearn-color-fitted-level-0);\n",
              "}\n",
              "\n",
              "#sk-container-id-1 input.sk-toggleable__control:checked~div.sk-toggleable__content {\n",
              "  /* Expand drop-down */\n",
              "  max-height: 200px;\n",
              "  max-width: 100%;\n",
              "  overflow: auto;\n",
              "}\n",
              "\n",
              "#sk-container-id-1 input.sk-toggleable__control:checked~label.sk-toggleable__label-arrow:before {\n",
              "  content: \"▾\";\n",
              "}\n",
              "\n",
              "/* Pipeline/ColumnTransformer-specific style */\n",
              "\n",
              "#sk-container-id-1 div.sk-label input.sk-toggleable__control:checked~label.sk-toggleable__label {\n",
              "  color: var(--sklearn-color-text);\n",
              "  background-color: var(--sklearn-color-unfitted-level-2);\n",
              "}\n",
              "\n",
              "#sk-container-id-1 div.sk-label.fitted input.sk-toggleable__control:checked~label.sk-toggleable__label {\n",
              "  background-color: var(--sklearn-color-fitted-level-2);\n",
              "}\n",
              "\n",
              "/* Estimator-specific style */\n",
              "\n",
              "/* Colorize estimator box */\n",
              "#sk-container-id-1 div.sk-estimator input.sk-toggleable__control:checked~label.sk-toggleable__label {\n",
              "  /* unfitted */\n",
              "  background-color: var(--sklearn-color-unfitted-level-2);\n",
              "}\n",
              "\n",
              "#sk-container-id-1 div.sk-estimator.fitted input.sk-toggleable__control:checked~label.sk-toggleable__label {\n",
              "  /* fitted */\n",
              "  background-color: var(--sklearn-color-fitted-level-2);\n",
              "}\n",
              "\n",
              "#sk-container-id-1 div.sk-label label.sk-toggleable__label,\n",
              "#sk-container-id-1 div.sk-label label {\n",
              "  /* The background is the default theme color */\n",
              "  color: var(--sklearn-color-text-on-default-background);\n",
              "}\n",
              "\n",
              "/* On hover, darken the color of the background */\n",
              "#sk-container-id-1 div.sk-label:hover label.sk-toggleable__label {\n",
              "  color: var(--sklearn-color-text);\n",
              "  background-color: var(--sklearn-color-unfitted-level-2);\n",
              "}\n",
              "\n",
              "/* Label box, darken color on hover, fitted */\n",
              "#sk-container-id-1 div.sk-label.fitted:hover label.sk-toggleable__label.fitted {\n",
              "  color: var(--sklearn-color-text);\n",
              "  background-color: var(--sklearn-color-fitted-level-2);\n",
              "}\n",
              "\n",
              "/* Estimator label */\n",
              "\n",
              "#sk-container-id-1 div.sk-label label {\n",
              "  font-family: monospace;\n",
              "  font-weight: bold;\n",
              "  display: inline-block;\n",
              "  line-height: 1.2em;\n",
              "}\n",
              "\n",
              "#sk-container-id-1 div.sk-label-container {\n",
              "  text-align: center;\n",
              "}\n",
              "\n",
              "/* Estimator-specific */\n",
              "#sk-container-id-1 div.sk-estimator {\n",
              "  font-family: monospace;\n",
              "  border: 1px dotted var(--sklearn-color-border-box);\n",
              "  border-radius: 0.25em;\n",
              "  box-sizing: border-box;\n",
              "  margin-bottom: 0.5em;\n",
              "  /* unfitted */\n",
              "  background-color: var(--sklearn-color-unfitted-level-0);\n",
              "}\n",
              "\n",
              "#sk-container-id-1 div.sk-estimator.fitted {\n",
              "  /* fitted */\n",
              "  background-color: var(--sklearn-color-fitted-level-0);\n",
              "}\n",
              "\n",
              "/* on hover */\n",
              "#sk-container-id-1 div.sk-estimator:hover {\n",
              "  /* unfitted */\n",
              "  background-color: var(--sklearn-color-unfitted-level-2);\n",
              "}\n",
              "\n",
              "#sk-container-id-1 div.sk-estimator.fitted:hover {\n",
              "  /* fitted */\n",
              "  background-color: var(--sklearn-color-fitted-level-2);\n",
              "}\n",
              "\n",
              "/* Specification for estimator info (e.g. \"i\" and \"?\") */\n",
              "\n",
              "/* Common style for \"i\" and \"?\" */\n",
              "\n",
              ".sk-estimator-doc-link,\n",
              "a:link.sk-estimator-doc-link,\n",
              "a:visited.sk-estimator-doc-link {\n",
              "  float: right;\n",
              "  font-size: smaller;\n",
              "  line-height: 1em;\n",
              "  font-family: monospace;\n",
              "  background-color: var(--sklearn-color-background);\n",
              "  border-radius: 1em;\n",
              "  height: 1em;\n",
              "  width: 1em;\n",
              "  text-decoration: none !important;\n",
              "  margin-left: 1ex;\n",
              "  /* unfitted */\n",
              "  border: var(--sklearn-color-unfitted-level-1) 1pt solid;\n",
              "  color: var(--sklearn-color-unfitted-level-1);\n",
              "}\n",
              "\n",
              ".sk-estimator-doc-link.fitted,\n",
              "a:link.sk-estimator-doc-link.fitted,\n",
              "a:visited.sk-estimator-doc-link.fitted {\n",
              "  /* fitted */\n",
              "  border: var(--sklearn-color-fitted-level-1) 1pt solid;\n",
              "  color: var(--sklearn-color-fitted-level-1);\n",
              "}\n",
              "\n",
              "/* On hover */\n",
              "div.sk-estimator:hover .sk-estimator-doc-link:hover,\n",
              ".sk-estimator-doc-link:hover,\n",
              "div.sk-label-container:hover .sk-estimator-doc-link:hover,\n",
              ".sk-estimator-doc-link:hover {\n",
              "  /* unfitted */\n",
              "  background-color: var(--sklearn-color-unfitted-level-3);\n",
              "  color: var(--sklearn-color-background);\n",
              "  text-decoration: none;\n",
              "}\n",
              "\n",
              "div.sk-estimator.fitted:hover .sk-estimator-doc-link.fitted:hover,\n",
              ".sk-estimator-doc-link.fitted:hover,\n",
              "div.sk-label-container:hover .sk-estimator-doc-link.fitted:hover,\n",
              ".sk-estimator-doc-link.fitted:hover {\n",
              "  /* fitted */\n",
              "  background-color: var(--sklearn-color-fitted-level-3);\n",
              "  color: var(--sklearn-color-background);\n",
              "  text-decoration: none;\n",
              "}\n",
              "\n",
              "/* Span, style for the box shown on hovering the info icon */\n",
              ".sk-estimator-doc-link span {\n",
              "  display: none;\n",
              "  z-index: 9999;\n",
              "  position: relative;\n",
              "  font-weight: normal;\n",
              "  right: .2ex;\n",
              "  padding: .5ex;\n",
              "  margin: .5ex;\n",
              "  width: min-content;\n",
              "  min-width: 20ex;\n",
              "  max-width: 50ex;\n",
              "  color: var(--sklearn-color-text);\n",
              "  box-shadow: 2pt 2pt 4pt #999;\n",
              "  /* unfitted */\n",
              "  background: var(--sklearn-color-unfitted-level-0);\n",
              "  border: .5pt solid var(--sklearn-color-unfitted-level-3);\n",
              "}\n",
              "\n",
              ".sk-estimator-doc-link.fitted span {\n",
              "  /* fitted */\n",
              "  background: var(--sklearn-color-fitted-level-0);\n",
              "  border: var(--sklearn-color-fitted-level-3);\n",
              "}\n",
              "\n",
              ".sk-estimator-doc-link:hover span {\n",
              "  display: block;\n",
              "}\n",
              "\n",
              "/* \"?\"-specific style due to the `<a>` HTML tag */\n",
              "\n",
              "#sk-container-id-1 a.estimator_doc_link {\n",
              "  float: right;\n",
              "  font-size: 1rem;\n",
              "  line-height: 1em;\n",
              "  font-family: monospace;\n",
              "  background-color: var(--sklearn-color-background);\n",
              "  border-radius: 1rem;\n",
              "  height: 1rem;\n",
              "  width: 1rem;\n",
              "  text-decoration: none;\n",
              "  /* unfitted */\n",
              "  color: var(--sklearn-color-unfitted-level-1);\n",
              "  border: var(--sklearn-color-unfitted-level-1) 1pt solid;\n",
              "}\n",
              "\n",
              "#sk-container-id-1 a.estimator_doc_link.fitted {\n",
              "  /* fitted */\n",
              "  border: var(--sklearn-color-fitted-level-1) 1pt solid;\n",
              "  color: var(--sklearn-color-fitted-level-1);\n",
              "}\n",
              "\n",
              "/* On hover */\n",
              "#sk-container-id-1 a.estimator_doc_link:hover {\n",
              "  /* unfitted */\n",
              "  background-color: var(--sklearn-color-unfitted-level-3);\n",
              "  color: var(--sklearn-color-background);\n",
              "  text-decoration: none;\n",
              "}\n",
              "\n",
              "#sk-container-id-1 a.estimator_doc_link.fitted:hover {\n",
              "  /* fitted */\n",
              "  background-color: var(--sklearn-color-fitted-level-3);\n",
              "}\n",
              "</style><div id=\"sk-container-id-1\" class=\"sk-top-container\"><div class=\"sk-text-repr-fallback\"><pre>XGBClassifier(base_score=None, booster=None, callbacks=None,\n",
              "              colsample_bylevel=None, colsample_bynode=None,\n",
              "              colsample_bytree=None, device=None, early_stopping_rounds=None,\n",
              "              enable_categorical=False, eval_metric=None, feature_types=None,\n",
              "              gamma=None, grow_policy=None, importance_type=None,\n",
              "              interaction_constraints=None, learning_rate=None, max_bin=None,\n",
              "              max_cat_threshold=None, max_cat_to_onehot=None,\n",
              "              max_delta_step=None, max_depth=None, max_leaves=None,\n",
              "              min_child_weight=None, missing=nan, monotone_constraints=None,\n",
              "              multi_strategy=None, n_estimators=None, n_jobs=None,\n",
              "              num_parallel_tree=None, random_state=123, ...)</pre><b>In a Jupyter environment, please rerun this cell to show the HTML representation or trust the notebook. <br />On GitHub, the HTML representation is unable to render, please try loading this page with nbviewer.org.</b></div><div class=\"sk-container\" hidden><div class=\"sk-item\"><div class=\"sk-estimator fitted sk-toggleable\"><input class=\"sk-toggleable__control sk-hidden--visually\" id=\"sk-estimator-id-1\" type=\"checkbox\" checked><label for=\"sk-estimator-id-1\" class=\"sk-toggleable__label fitted sk-toggleable__label-arrow fitted\">&nbsp;XGBClassifier<span class=\"sk-estimator-doc-link fitted\">i<span>Fitted</span></span></label><div class=\"sk-toggleable__content fitted\"><pre>XGBClassifier(base_score=None, booster=None, callbacks=None,\n",
              "              colsample_bylevel=None, colsample_bynode=None,\n",
              "              colsample_bytree=None, device=None, early_stopping_rounds=None,\n",
              "              enable_categorical=False, eval_metric=None, feature_types=None,\n",
              "              gamma=None, grow_policy=None, importance_type=None,\n",
              "              interaction_constraints=None, learning_rate=None, max_bin=None,\n",
              "              max_cat_threshold=None, max_cat_to_onehot=None,\n",
              "              max_delta_step=None, max_depth=None, max_leaves=None,\n",
              "              min_child_weight=None, missing=nan, monotone_constraints=None,\n",
              "              multi_strategy=None, n_estimators=None, n_jobs=None,\n",
              "              num_parallel_tree=None, random_state=123, ...)</pre></div> </div></div></div></div>"
            ],
            "text/plain": [
              "XGBClassifier(base_score=None, booster=None, callbacks=None,\n",
              "              colsample_bylevel=None, colsample_bynode=None,\n",
              "              colsample_bytree=None, device=None, early_stopping_rounds=None,\n",
              "              enable_categorical=False, eval_metric=None, feature_types=None,\n",
              "              gamma=None, grow_policy=None, importance_type=None,\n",
              "              interaction_constraints=None, learning_rate=None, max_bin=None,\n",
              "              max_cat_threshold=None, max_cat_to_onehot=None,\n",
              "              max_delta_step=None, max_depth=None, max_leaves=None,\n",
              "              min_child_weight=None, missing=nan, monotone_constraints=None,\n",
              "              multi_strategy=None, n_estimators=None, n_jobs=None,\n",
              "              num_parallel_tree=None, random_state=123, ...)"
            ]
          },
          "execution_count": 10,
          "metadata": {},
          "output_type": "execute_result"
        }
      ],
      "source": [
        "# Initialize and train the XGBoost model\n",
        "xgb_classifier = XGBClassifier(random_state=123)\n",
        "xgb_classifier.fit(balanced_features_train, balanced_target_train)\n"
      ]
    },
    {
      "cell_type": "code",
      "execution_count": null,
      "id": "3f1b39f6-c8b8-4dc9-98f0-0767d1d1915a",
      "metadata": {
        "id": "3f1b39f6-c8b8-4dc9-98f0-0767d1d1915a"
      },
      "outputs": [],
      "source": [
        "# Use the trained classifier to predict the test set outcomes\n",
        "predicted_targets = xgb_classifier.predict(features_test)\n",
        "# Generate a classification report\n",
        "evaluation_report = classification_report(target_test, predicted_targets)\n",
        "# Generate a confusion matrix\n",
        "evaluation_confusion_matrix = confusion_matrix(target_test, predicted_targets)\n"
      ]
    },
    {
      "cell_type": "code",
      "execution_count": null,
      "id": "8a02268e-7dee-450d-ad68-306794e9992b",
      "metadata": {
        "id": "8a02268e-7dee-450d-ad68-306794e9992b",
        "outputId": "53302d58-fcf6-42c8-fb10-ec503af8e217"
      },
      "outputs": [
        {
          "data": {
            "text/plain": [
              "'              precision    recall  f1-score   support\\n\\n           0       0.85      0.53      0.66     32504\\n           1       0.28      0.65      0.39      8948\\n\\n    accuracy                           0.56     41452\\n   macro avg       0.56      0.59      0.52     41452\\nweighted avg       0.73      0.56      0.60     41452\\n'"
            ]
          },
          "execution_count": 12,
          "metadata": {},
          "output_type": "execute_result"
        }
      ],
      "source": [
        "# Display the classification report to evaluate model performance\n",
        "evaluation_report\n"
      ]
    },
    {
      "cell_type": "code",
      "execution_count": null,
      "id": "6051564d-3876-4f4a-89c0-b23208788b8f",
      "metadata": {
        "id": "6051564d-3876-4f4a-89c0-b23208788b8f",
        "outputId": "d9752759-8b29-48ef-e27f-fd2de61b755a"
      },
      "outputs": [
        {
          "data": {
            "text/plain": [
              "array([[17353, 15151],\n",
              "       [ 3104,  5844]])"
            ]
          },
          "execution_count": 13,
          "metadata": {},
          "output_type": "execute_result"
        }
      ],
      "source": [
        "# Display the confusion matrix for a detailed evaluation\n",
        "evaluation_confusion_matrix\n"
      ]
    },
    {
      "cell_type": "code",
      "execution_count": null,
      "id": "e9366d88-a4fe-412b-b143-1a516d6c83e3",
      "metadata": {
        "id": "e9366d88-a4fe-412b-b143-1a516d6c83e3",
        "outputId": "acf773a5-9bde-4f7a-d0cb-ed673660bdc2"
      },
      "outputs": [
        {
          "data": {
            "text/plain": [
              "0.5596111164720641"
            ]
          },
          "execution_count": 15,
          "metadata": {},
          "output_type": "execute_result"
        }
      ],
      "source": [
        "# Ensure the necessary function is imported\n",
        "from sklearn.metrics import accuracy_score\n",
        "\n",
        "# Calculate and display the accuracy of the model\n",
        "model_accuracy = accuracy_score(target_test, predicted_targets)\n",
        "model_accuracy\n"
      ]
    },
    {
      "cell_type": "code",
      "execution_count": null,
      "id": "a029b1ae-e723-4c9f-a89d-52f8596041ed",
      "metadata": {
        "id": "a029b1ae-e723-4c9f-a89d-52f8596041ed",
        "outputId": "0e7c67dc-bec6-4141-c60b-10178bf6435b"
      },
      "outputs": [
        {
          "data": {
            "text/plain": [
              "8619200"
            ]
          },
          "execution_count": 16,
          "metadata": {},
          "output_type": "execute_result"
        }
      ],
      "source": [
        "# Calculate the total cost without using the model predictions\n",
        "baseline_total_cost = 0\n",
        "for i in range(len(target_test)):\n",
        "    baseline_total_cost += 600 if target_test[i] == 1 else 100\n",
        "baseline_total_cost\n"
      ]
    },
    {
      "cell_type": "code",
      "execution_count": null,
      "id": "265551c8-4a4d-4b46-91cd-8786675fdc5f",
      "metadata": {
        "id": "265551c8-4a4d-4b46-91cd-8786675fdc5f",
        "outputId": "884df3eb-6483-4a2f-86b5-dd5e94545f45"
      },
      "outputs": [
        {
          "data": {
            "text/plain": [
              "7586750"
            ]
          },
          "execution_count": 29,
          "metadata": {},
          "output_type": "execute_result"
        }
      ],
      "source": [
        "tn, fp, fn, tp = evaluation_confusion_matrix.ravel()\n",
        "cost_extra_diligence = 90\n",
        "total_cost_model = (tp + fp) * 190 + fn * cost_disputed + tn * cost_non_disputed\n",
        "total_cost_model"
      ]
    },
    {
      "cell_type": "code",
      "execution_count": null,
      "id": "560c632d-6e56-402c-8da0-4d74aeaf180e",
      "metadata": {
        "id": "560c632d-6e56-402c-8da0-4d74aeaf180e",
        "outputId": "c5065a61-adeb-47cc-f06b-406b1de50b02"
      },
      "outputs": [
        {
          "data": {
            "text/plain": [
              "0.5"
            ]
          },
          "execution_count": 17,
          "metadata": {},
          "output_type": "execute_result"
        }
      ],
      "source": [
        "# Calculate the proportion of disputed cases in the test set\n",
        "test_disputed_proportion = sum(target_test) / len(target_test)\n",
        "test_disputed_proportion\n",
        "\n",
        "# Calculate the proportion of disputed cases in the training set\n",
        "train_disputed_proportion = sum(balanced_target_train) / len(balanced_target_train)\n",
        "train_disputed_proportion\n"
      ]
    },
    {
      "cell_type": "code",
      "execution_count": null,
      "id": "99fc864d-46c2-4cb0-8768-cb9970149c82",
      "metadata": {
        "id": "99fc864d-46c2-4cb0-8768-cb9970149c82",
        "outputId": "6dbc26fb-71c8-4c4c-c3d3-c8b0988048ca"
      },
      "outputs": [
        {
          "data": {
            "text/plain": [
              "0.85"
            ]
          },
          "execution_count": 25,
          "metadata": {},
          "output_type": "execute_result"
        }
      ],
      "source": [
        "# Calculate and display the recall for 'Disputed' predictions using the model\n",
        "updated_report = classification_report(target_test, predicted_targets, target_names=['No', 'Yes'])\n",
        "recall_disputed = float(updated_report.split()[5])\n",
        "recall_disputed\n"
      ]
    },
    {
      "cell_type": "code",
      "execution_count": null,
      "id": "f154af35-0634-4fc3-83dd-78ae04b43f73",
      "metadata": {
        "id": "f154af35-0634-4fc3-83dd-78ae04b43f73",
        "outputId": "52d826b0-4aa8-4419-ed17-80c9c5532e1d"
      },
      "outputs": [
        {
          "data": {
            "text/plain": [
              "5487250"
            ]
          },
          "execution_count": 19,
          "metadata": {},
          "output_type": "execute_result"
        }
      ],
      "source": [
        "# Calculate the total cost with model predictions\n",
        "model_total_cost = 0\n",
        "for i in range(len(target_test)):\n",
        "    if predicted_targets[i] == 1:\n",
        "        model_total_cost += 90\n",
        "    else:\n",
        "        model_total_cost += 600 if target_test[i] == 1 else 100\n",
        "model_total_cost\n"
      ]
    },
    {
      "cell_type": "code",
      "execution_count": null,
      "id": "bf1e9f0c-5ac2-48ca-84d9-bb4fe45ec4f4",
      "metadata": {
        "id": "bf1e9f0c-5ac2-48ca-84d9-bb4fe45ec4f4",
        "outputId": "68bfeee2-8217-4400-e4fd-5a92ecc4cc53"
      },
      "outputs": [
        {
          "data": {
            "text/plain": [
              "(0.1, 3731120)"
            ]
          },
          "execution_count": 20,
          "metadata": {},
          "output_type": "execute_result"
        }
      ],
      "source": [
        "# Find the decision threshold that minimizes the total cost\n",
        "optimal_threshold = 0.5\n",
        "lowest_cost = float('inf')\n",
        "for threshold in [0.1, 0.2, 0.3, 0.4, 0.5, 0.6, 0.7, 0.8, 0.9]:\n",
        "    threshold_pred_targets = (xgb_classifier.predict_proba(features_test)[:,1] >= threshold).astype(int)\n",
        "    total_cost = 0\n",
        "    for i in range(len(target_test)):\n",
        "        if threshold_pred_targets[i] == 1:\n",
        "            total_cost += 90\n",
        "        else:\n",
        "            total_cost += 600 if target_test[i] == 1 else 100\n",
        "\n",
        "    if total_cost < lowest_cost:\n",
        "        lowest_cost = total_cost\n",
        "        optimal_threshold = threshold\n",
        "\n",
        "optimal_threshold, lowest_cost\n"
      ]
    },
    {
      "cell_type": "code",
      "execution_count": null,
      "id": "ef356050-6004-429a-bd57-f8c67277c6a2",
      "metadata": {
        "id": "ef356050-6004-429a-bd57-f8c67277c6a2",
        "outputId": "94b231e0-af8c-42a3-8c54-acc1967dc1be"
      },
      "outputs": [
        {
          "name": "stdout",
          "output_type": "stream",
          "text": [
            "Optimal Threshold: 0.46, Minimum Total Cost: $7491540\n"
          ]
        }
      ],
      "source": [
        "from xgboost import XGBClassifier\n",
        "def calculate_cost_with_threshold(y_true, y_prob, threshold):\n",
        "    y_pred_adjusted = (y_prob >= threshold).astype(int)\n",
        "    cm = confusion_matrix(y_true, y_pred_adjusted)\n",
        "    tn, fp, fn, tp = cm.ravel()\n",
        "    total_cost = (tp + fp) * 190 + fn * 600 + tn * 100\n",
        "    return total_cost\n",
        "y_prob = xgb_classifier.predict_proba(features_test)[:, 1]\n",
        "thresholds = np.linspace(0, 1, 101)\n",
        "costs = [calculate_cost_with_threshold(target_test, y_prob, threshold) for threshold in thresholds]\n",
        "min_cost = min(costs)\n",
        "optimal_threshold = thresholds[costs.index(min_cost)]\n",
        "print(f\"Optimal Threshold: {optimal_threshold}, Minimum Total Cost: ${min_cost}\")"
      ]
    },
    {
      "cell_type": "code",
      "execution_count": null,
      "id": "e9727931-87e2-4738-ad7e-2d6261656b14",
      "metadata": {
        "id": "e9727931-87e2-4738-ad7e-2d6261656b14"
      },
      "outputs": [],
      "source": []
    }
  ],
  "metadata": {
    "kernelspec": {
      "display_name": "Python [conda env:mggy8413]",
      "language": "python",
      "name": "conda-env-mggy8413-py"
    },
    "language_info": {
      "codemirror_mode": {
        "name": "ipython",
        "version": 3
      },
      "file_extension": ".py",
      "mimetype": "text/x-python",
      "name": "python",
      "nbconvert_exporter": "python",
      "pygments_lexer": "ipython3",
      "version": "3.11.8"
    },
    "colab": {
      "provenance": [],
      "include_colab_link": true
    }
  },
  "nbformat": 4,
  "nbformat_minor": 5
}